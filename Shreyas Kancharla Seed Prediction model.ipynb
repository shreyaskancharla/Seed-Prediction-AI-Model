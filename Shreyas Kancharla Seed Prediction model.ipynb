{
 "cells": [
  {
   "cell_type": "markdown",
   "metadata": {},
   "source": [
    "# Data acquisition"
   ]
  },
  {
   "cell_type": "markdown",
   "metadata": {},
   "source": [
    "Hello! users.Welcome to my AI model.I'm using my model to predict the types of wheat seeds using the physical attributes of a wheat seed.The seed type is essential to determine what type of wheat farmers desire to grow."
   ]
  },
  {
   "cell_type": "markdown",
   "metadata": {},
   "source": [
    "So the different physical attributes I will be using are as follows:\n",
    "1.area\n",
    "2.perimeter\t\n",
    "3.lengthOfKernel\n",
    "4.widthOfKernel\n",
    "5.lengthOfKernelGroove"
   ]
  },
  {
   "cell_type": "markdown",
   "metadata": {},
   "source": [
    "<img src = \"F1.png\">"
   ]
  },
  {
   "cell_type": "markdown",
   "metadata": {},
   "source": [
    "Q)What is a kernel:\n",
    "\n",
    "A)A wheat berry, or wheatberry, is a whole wheat kernel, composed of the bran, germ, and endosperm, without the husk. Botanically, it is a type of fruit called a caryopsis. Wheat berries have a tan to reddish-brown color and are available as either a hard or soft processed grain. They are often added to salads or baked into bread to add a crunchy texture. If wheat berries are milled, whole-wheat flour is produced."
   ]
  },
  {
   "cell_type": "markdown",
   "metadata": {},
   "source": [
    "So as per research \"Kernel size and hardness are important for millers and they should be controlled prior to milling. The kernel hardness also determines end-use quality of wheat. The objective of this study was to determine the effect of kernel size on wheat kernel characteristics, especially kernel hardness, milling yield and various flour quality properties. Three bread wheat varieties (Bayraktar 2000, Demir 2000 and Ikizce 96) were used after separating them into three kernel size groups. As expected, 1000 kernel weight significantly (P<0.05) decreased with decreasing kernel size. Results of three hardness tests (single kernel characterisation system, pearling index and particle size index) were parallel and hardness of the samples significantly increased (P<0.05) as the kernel size decreased. Flour yields were generally lower in the smaller kernels. However, the decrease in flour yield was not significant for cv Bayraktar 2000. In two cultivars protein content and wet gluten had a significant (P<0.05) decreasing tendency with decreasing kernel size while those of the third cultivar were not affected by kernel size. Sedimentation values of the samples were not affected by kernel size. Overall, small kernels did not seem to influence flour quality while they generally had a detrimental effect on milling yield.\" from the websitehttps://www.wageningenacademic.com/"
   ]
  },
  {
   "cell_type": "markdown",
   "metadata": {},
   "source": [
    "<img src = \"Images-of-wheat-kernel-surface-and-cross-section-with-a-indication-of-the-dimensions.png\n",
    "\">"
   ]
  },
  {
   "cell_type": "markdown",
   "metadata": {},
   "source": [
    "So we can observe that when kernel size is larger the amount of flour is more."
   ]
  },
  {
   "cell_type": "markdown",
   "metadata": {},
   "source": [
    "The three types of wheat seeds are:\n",
    "1.Common wheat\n",
    "2.Khorasan\n",
    "3.Emmer"
   ]
  },
  {
   "cell_type": "code",
   "execution_count": 1,
   "metadata": {},
   "outputs": [],
   "source": [
    "#importing all the modules and libraries\n",
    "import pandas as pd\n",
    "import numpy as np\n",
    "import random\n",
    "from sklearn.preprocessing import StandardScaler\n",
    "from keras.models import Sequential\n",
    "from keras.layers import Dense\n",
    "from sklearn.model_selection import train_test_split\n",
    "from sklearn.neighbors import KNeighborsClassifier\n",
    "from sklearn import tree\n",
    "import matplotlib.pyplot as plt\n",
    "import urllib.request\n",
    "from keras.utils import to_categorical\n",
    "from sklearn.metrics import confusion_matrix  \n",
    "import seaborn as sns"
   ]
  },
  {
   "cell_type": "markdown",
   "metadata": {},
   "source": [
    "# Data Exploration"
   ]
  },
  {
   "cell_type": "code",
   "execution_count": 2,
   "metadata": {},
   "outputs": [
    {
     "name": "stdout",
     "output_type": "stream",
     "text": [
      "   ID   area  perimeter  compactness  lengthOfKernel  widthOfKernel  \\\n",
      "0   1  15.26      14.84       0.8710           5.763          3.312   \n",
      "1   2  14.88      14.57       0.8811           5.554          3.333   \n",
      "2   3  14.29      14.09       0.9050           5.291          3.337   \n",
      "3   4  13.84      13.94       0.8955           5.324          3.379   \n",
      "4   5  16.14      14.99       0.9034           5.658          3.562   \n",
      "\n",
      "   asymmetryCoefficient  lengthOfKernelGroove      seedType  \n",
      "0                 2.221                 5.220  Common_wheat  \n",
      "1                 1.018                 4.956  Common_wheat  \n",
      "2                 2.699                 4.825  Common_wheat  \n",
      "3                 2.259                 4.805  Common_wheat  \n",
      "4                 1.355                 5.175  Common_wheat  \n",
      "<class 'pandas.core.frame.DataFrame'>\n",
      "RangeIndex: 210 entries, 0 to 209\n",
      "Data columns (total 9 columns):\n",
      " #   Column                Non-Null Count  Dtype  \n",
      "---  ------                --------------  -----  \n",
      " 0   ID                    210 non-null    int64  \n",
      " 1   area                  210 non-null    float64\n",
      " 2   perimeter             210 non-null    float64\n",
      " 3   compactness           210 non-null    float64\n",
      " 4   lengthOfKernel        210 non-null    float64\n",
      " 5   widthOfKernel         210 non-null    float64\n",
      " 6   asymmetryCoefficient  210 non-null    float64\n",
      " 7   lengthOfKernelGroove  210 non-null    float64\n",
      " 8   seedType              210 non-null    object \n",
      "dtypes: float64(7), int64(1), object(1)\n",
      "memory usage: 14.9+ KB\n",
      "None\n"
     ]
    },
    {
     "data": {
      "text/html": [
       "<div>\n",
       "<style scoped>\n",
       "    .dataframe tbody tr th:only-of-type {\n",
       "        vertical-align: middle;\n",
       "    }\n",
       "\n",
       "    .dataframe tbody tr th {\n",
       "        vertical-align: top;\n",
       "    }\n",
       "\n",
       "    .dataframe thead th {\n",
       "        text-align: right;\n",
       "    }\n",
       "</style>\n",
       "<table border=\"1\" class=\"dataframe\">\n",
       "  <thead>\n",
       "    <tr style=\"text-align: right;\">\n",
       "      <th></th>\n",
       "      <th>ID</th>\n",
       "      <th>area</th>\n",
       "      <th>perimeter</th>\n",
       "      <th>compactness</th>\n",
       "      <th>lengthOfKernel</th>\n",
       "      <th>widthOfKernel</th>\n",
       "      <th>asymmetryCoefficient</th>\n",
       "      <th>lengthOfKernelGroove</th>\n",
       "    </tr>\n",
       "  </thead>\n",
       "  <tbody>\n",
       "    <tr>\n",
       "      <th>count</th>\n",
       "      <td>210.000000</td>\n",
       "      <td>210.000000</td>\n",
       "      <td>210.000000</td>\n",
       "      <td>210.000000</td>\n",
       "      <td>210.000000</td>\n",
       "      <td>210.000000</td>\n",
       "      <td>210.000000</td>\n",
       "      <td>210.000000</td>\n",
       "    </tr>\n",
       "    <tr>\n",
       "      <th>mean</th>\n",
       "      <td>105.500000</td>\n",
       "      <td>14.847524</td>\n",
       "      <td>14.559286</td>\n",
       "      <td>0.870999</td>\n",
       "      <td>5.628533</td>\n",
       "      <td>3.258605</td>\n",
       "      <td>3.700201</td>\n",
       "      <td>5.408071</td>\n",
       "    </tr>\n",
       "    <tr>\n",
       "      <th>std</th>\n",
       "      <td>60.765944</td>\n",
       "      <td>2.909699</td>\n",
       "      <td>1.305959</td>\n",
       "      <td>0.023629</td>\n",
       "      <td>0.443063</td>\n",
       "      <td>0.377714</td>\n",
       "      <td>1.503557</td>\n",
       "      <td>0.491480</td>\n",
       "    </tr>\n",
       "    <tr>\n",
       "      <th>min</th>\n",
       "      <td>1.000000</td>\n",
       "      <td>10.590000</td>\n",
       "      <td>12.410000</td>\n",
       "      <td>0.808100</td>\n",
       "      <td>4.899000</td>\n",
       "      <td>2.630000</td>\n",
       "      <td>0.765100</td>\n",
       "      <td>4.519000</td>\n",
       "    </tr>\n",
       "    <tr>\n",
       "      <th>25%</th>\n",
       "      <td>53.250000</td>\n",
       "      <td>12.270000</td>\n",
       "      <td>13.450000</td>\n",
       "      <td>0.856900</td>\n",
       "      <td>5.262250</td>\n",
       "      <td>2.944000</td>\n",
       "      <td>2.561500</td>\n",
       "      <td>5.045000</td>\n",
       "    </tr>\n",
       "    <tr>\n",
       "      <th>50%</th>\n",
       "      <td>105.500000</td>\n",
       "      <td>14.355000</td>\n",
       "      <td>14.320000</td>\n",
       "      <td>0.873450</td>\n",
       "      <td>5.523500</td>\n",
       "      <td>3.237000</td>\n",
       "      <td>3.599000</td>\n",
       "      <td>5.223000</td>\n",
       "    </tr>\n",
       "    <tr>\n",
       "      <th>75%</th>\n",
       "      <td>157.750000</td>\n",
       "      <td>17.305000</td>\n",
       "      <td>15.715000</td>\n",
       "      <td>0.887775</td>\n",
       "      <td>5.979750</td>\n",
       "      <td>3.561750</td>\n",
       "      <td>4.768750</td>\n",
       "      <td>5.877000</td>\n",
       "    </tr>\n",
       "    <tr>\n",
       "      <th>max</th>\n",
       "      <td>210.000000</td>\n",
       "      <td>21.180000</td>\n",
       "      <td>17.250000</td>\n",
       "      <td>0.918300</td>\n",
       "      <td>6.675000</td>\n",
       "      <td>4.033000</td>\n",
       "      <td>8.456000</td>\n",
       "      <td>6.550000</td>\n",
       "    </tr>\n",
       "  </tbody>\n",
       "</table>\n",
       "</div>"
      ],
      "text/plain": [
       "               ID        area   perimeter  compactness  lengthOfKernel  \\\n",
       "count  210.000000  210.000000  210.000000   210.000000      210.000000   \n",
       "mean   105.500000   14.847524   14.559286     0.870999        5.628533   \n",
       "std     60.765944    2.909699    1.305959     0.023629        0.443063   \n",
       "min      1.000000   10.590000   12.410000     0.808100        4.899000   \n",
       "25%     53.250000   12.270000   13.450000     0.856900        5.262250   \n",
       "50%    105.500000   14.355000   14.320000     0.873450        5.523500   \n",
       "75%    157.750000   17.305000   15.715000     0.887775        5.979750   \n",
       "max    210.000000   21.180000   17.250000     0.918300        6.675000   \n",
       "\n",
       "       widthOfKernel  asymmetryCoefficient  lengthOfKernelGroove  \n",
       "count     210.000000            210.000000            210.000000  \n",
       "mean        3.258605              3.700201              5.408071  \n",
       "std         0.377714              1.503557              0.491480  \n",
       "min         2.630000              0.765100              4.519000  \n",
       "25%         2.944000              2.561500              5.045000  \n",
       "50%         3.237000              3.599000              5.223000  \n",
       "75%         3.561750              4.768750              5.877000  \n",
       "max         4.033000              8.456000              6.550000  "
      ]
     },
     "execution_count": 2,
     "metadata": {},
     "output_type": "execute_result"
    }
   ],
   "source": [
    "#saving the csv file into a variable which we will call data\n",
    "data=pd.read_csv(\"seeds_dataset.csv\")\n",
    "print(data.head())\n",
    "print(data.info())\n",
    "data.describe()"
   ]
  },
  {
   "cell_type": "code",
   "execution_count": 3,
   "metadata": {},
   "outputs": [
    {
     "data": {
      "text/html": [
       "<div>\n",
       "<style scoped>\n",
       "    .dataframe tbody tr th:only-of-type {\n",
       "        vertical-align: middle;\n",
       "    }\n",
       "\n",
       "    .dataframe tbody tr th {\n",
       "        vertical-align: top;\n",
       "    }\n",
       "\n",
       "    .dataframe thead th {\n",
       "        text-align: right;\n",
       "    }\n",
       "</style>\n",
       "<table border=\"1\" class=\"dataframe\">\n",
       "  <thead>\n",
       "    <tr style=\"text-align: right;\">\n",
       "      <th></th>\n",
       "      <th>ID</th>\n",
       "      <th>area</th>\n",
       "      <th>perimeter</th>\n",
       "      <th>lengthOfKernel</th>\n",
       "      <th>widthOfKernel</th>\n",
       "      <th>lengthOfKernelGroove</th>\n",
       "      <th>seedType</th>\n",
       "    </tr>\n",
       "  </thead>\n",
       "  <tbody>\n",
       "    <tr>\n",
       "      <th>0</th>\n",
       "      <td>1</td>\n",
       "      <td>15.26</td>\n",
       "      <td>14.84</td>\n",
       "      <td>5.763</td>\n",
       "      <td>3.312</td>\n",
       "      <td>5.220</td>\n",
       "      <td>Common_wheat</td>\n",
       "    </tr>\n",
       "    <tr>\n",
       "      <th>1</th>\n",
       "      <td>2</td>\n",
       "      <td>14.88</td>\n",
       "      <td>14.57</td>\n",
       "      <td>5.554</td>\n",
       "      <td>3.333</td>\n",
       "      <td>4.956</td>\n",
       "      <td>Common_wheat</td>\n",
       "    </tr>\n",
       "    <tr>\n",
       "      <th>2</th>\n",
       "      <td>3</td>\n",
       "      <td>14.29</td>\n",
       "      <td>14.09</td>\n",
       "      <td>5.291</td>\n",
       "      <td>3.337</td>\n",
       "      <td>4.825</td>\n",
       "      <td>Common_wheat</td>\n",
       "    </tr>\n",
       "    <tr>\n",
       "      <th>3</th>\n",
       "      <td>4</td>\n",
       "      <td>13.84</td>\n",
       "      <td>13.94</td>\n",
       "      <td>5.324</td>\n",
       "      <td>3.379</td>\n",
       "      <td>4.805</td>\n",
       "      <td>Common_wheat</td>\n",
       "    </tr>\n",
       "    <tr>\n",
       "      <th>4</th>\n",
       "      <td>5</td>\n",
       "      <td>16.14</td>\n",
       "      <td>14.99</td>\n",
       "      <td>5.658</td>\n",
       "      <td>3.562</td>\n",
       "      <td>5.175</td>\n",
       "      <td>Common_wheat</td>\n",
       "    </tr>\n",
       "  </tbody>\n",
       "</table>\n",
       "</div>"
      ],
      "text/plain": [
       "   ID   area  perimeter  lengthOfKernel  widthOfKernel  lengthOfKernelGroove  \\\n",
       "0   1  15.26      14.84           5.763          3.312                 5.220   \n",
       "1   2  14.88      14.57           5.554          3.333                 4.956   \n",
       "2   3  14.29      14.09           5.291          3.337                 4.825   \n",
       "3   4  13.84      13.94           5.324          3.379                 4.805   \n",
       "4   5  16.14      14.99           5.658          3.562                 5.175   \n",
       "\n",
       "       seedType  \n",
       "0  Common_wheat  \n",
       "1  Common_wheat  \n",
       "2  Common_wheat  \n",
       "3  Common_wheat  \n",
       "4  Common_wheat  "
      ]
     },
     "execution_count": 3,
     "metadata": {},
     "output_type": "execute_result"
    }
   ],
   "source": [
    "#now drop the unnecessary columns using drop()function and save it as a new data file df which we will use in the whole model\n",
    "df=data.drop([\"asymmetryCoefficient\"],axis=1)\n",
    "df=df.drop([\"compactness\"],axis=1)\n",
    "df.head()"
   ]
  },
  {
   "cell_type": "markdown",
   "metadata": {},
   "source": [
    "Now we check for a relationship between these attributes"
   ]
  },
  {
   "cell_type": "code",
   "execution_count": 4,
   "metadata": {
    "scrolled": true
   },
   "outputs": [
    {
     "data": {
      "image/png": "[encoded data removed]",
      "text/plain": [
       "<Figure size 432x288 with 1 Axes>"
      ]
     },
     "metadata": {
      "needs_background": "light"
     },
     "output_type": "display_data"
    }
   ],
   "source": [
    "x = df.area\n",
    "y = df.perimeter\n",
    "colors = np.random.rand(len(y))\n",
    "plt.xlabel (\"Area of Seed\", fontsize = 14)\n",
    "plt.ylabel (\"Perimeter of seed\", fontsize = 14)\n",
    "plt.scatter(x,y,c=colors,alpha=0.5)\n",
    "plt.show()"
   ]
  },
  {
   "cell_type": "markdown",
   "metadata": {},
   "source": [
    "Here there is a linear relationship between area and perimeter of wheat seed"
   ]
  },
  {
   "cell_type": "code",
   "execution_count": 5,
   "metadata": {},
   "outputs": [
    {
     "data": {
      "image/png": "[encoded data removed]",
      "text/plain": [
       "<Figure size 432x288 with 1 Axes>"
      ]
     },
     "metadata": {
      "needs_background": "light"
     },
     "output_type": "display_data"
    }
   ],
   "source": [
    "x = df.lengthOfKernel\n",
    "y = df.widthOfKernel\n",
    "colors = np.random.rand(len(y))\n",
    "plt.xlabel (\"Length Of Kernel\", fontsize = 14)\n",
    "plt.ylabel (\"Width Of Kernel\", fontsize = 14)\n",
    "plt.scatter(x,y,c=colors,alpha=0.5)\n",
    "plt.show()"
   ]
  },
  {
   "cell_type": "markdown",
   "metadata": {},
   "source": [
    "Here it is a bit scattered but still shows linear relationship"
   ]
  },
  {
   "cell_type": "code",
   "execution_count": 6,
   "metadata": {},
   "outputs": [
    {
     "data": {
      "image/png": "[encoded data removed]",
      "text/plain": [
       "<Figure size 432x288 with 1 Axes>"
      ]
     },
     "metadata": {
      "needs_background": "light"
     },
     "output_type": "display_data"
    }
   ],
   "source": [
    "#Now we use histogram to see length of Kernel variation\n",
    "y = df.lengthOfKernel\n",
    "\n",
    "plt.hist(y,bins=10)\n",
    "\n",
    "plt.ylabel(\"No.of seeds\")\n",
    "plt.xlabel(\"Length of Kernel\")\n",
    "\n",
    "plt.show()"
   ]
  },
  {
   "cell_type": "markdown",
   "metadata": {},
   "source": [
    "So most of the seeds have maximum no. of seeds with kernel length 5 to 5.25"
   ]
  },
  {
   "cell_type": "code",
   "execution_count": 7,
   "metadata": {},
   "outputs": [
    {
     "data": {
      "image/png": "[encoded data removed]",
      "text/plain": [
       "<Figure size 432x288 with 1 Axes>"
      ]
     },
     "metadata": {
      "needs_background": "light"
     },
     "output_type": "display_data"
    },
    {
     "data": {
      "image/png": "[encoded data removed]",
      "text/plain": [
       "<Figure size 432x288 with 1 Axes>"
      ]
     },
     "metadata": {
      "needs_background": "light"
     },
     "output_type": "display_data"
    },
    {
     "data": {
      "image/png": "[encoded data removed]",
      "text/plain": [
       "<Figure size 432x288 with 1 Axes>"
      ]
     },
     "metadata": {
      "needs_background": "light"
     },
     "output_type": "display_data"
    },
    {
     "data": {
      "image/png": "[encoded data removed]",
      "text/plain": [
       "<Figure size 432x288 with 1 Axes>"
      ]
     },
     "metadata": {
      "needs_background": "light"
     },
     "output_type": "display_data"
    }
   ],
   "source": [
    "y=df.area\n",
    "\n",
    "plt.boxplot(y,showfliers=True)\n",
    "plt.show()\n",
    "y=df.perimeter\n",
    "\n",
    "plt.boxplot(y,showfliers=True)\n",
    "plt.show()\n",
    "y=df.lengthOfKernel\n",
    "\n",
    "plt.boxplot(y,showfliers=True)\n",
    "plt.show()\n",
    "y=df.widthOfKernel\n",
    "\n",
    "plt.boxplot(y,showfliers=True)\n",
    "plt.show()"
   ]
  },
  {
   "cell_type": "markdown",
   "metadata": {},
   "source": [
    "we see that there are no outliers"
   ]
  },
  {
   "cell_type": "code",
   "execution_count": 8,
   "metadata": {},
   "outputs": [],
   "source": [
    "df_Common_wheat = df[df['seedType'] == 'Common_wheat']\n",
    "df_Khorasan = df[df['seedType'] == 'Khorasan']\n",
    "df_Emmer = df[df['seedType'] == 'Emmer']"
   ]
  },
  {
   "cell_type": "code",
   "execution_count": 9,
   "metadata": {},
   "outputs": [
    {
     "data": {
      "image/png": "[encoded data removed]",
      "text/plain": [
       "<Figure size 432x288 with 1 Axes>"
      ]
     },
     "metadata": {
      "needs_background": "light"
     },
     "output_type": "display_data"
    }
   ],
   "source": [
    "plt.scatter(df_Common_wheat['area'],df_Common_wheat['perimeter'],c='r',label='Common wheat')\n",
    "plt.scatter(df_Khorasan['area'],df_Khorasan['perimeter'],c='b',label='Khorasan')\n",
    "plt.scatter(df_Emmer['area'],df_Emmer['perimeter'],c='g',label='Emmer')\n",
    "\n",
    "plt.legend()\n",
    "plt.xlabel('Area')\n",
    "plt.ylabel('Perimeter')\n",
    "\n",
    "plt.show()"
   ]
  },
  {
   "cell_type": "markdown",
   "metadata": {},
   "source": [
    "here we see that common wheat is showing some similarties with emmer but isnt same\n"
   ]
  },
  {
   "cell_type": "code",
   "execution_count": 10,
   "metadata": {},
   "outputs": [
    {
     "data": {
      "image/png": "[encoded data removed]",
      "text/plain": [
       "<Figure size 432x288 with 1 Axes>"
      ]
     },
     "metadata": {
      "needs_background": "light"
     },
     "output_type": "display_data"
    }
   ],
   "source": [
    "plt.scatter(df_Common_wheat['lengthOfKernel'],df_Common_wheat['widthOfKernel'],c='r',label='Common wheat')\n",
    "plt.scatter(df_Khorasan['lengthOfKernel'],df_Khorasan['widthOfKernel'],c='b',label='Khorasan')\n",
    "plt.scatter(df_Emmer['lengthOfKernel'],df_Emmer['widthOfKernel'],c='g',label='Emmer')\n",
    "\n",
    "plt.legend()\n",
    "plt.xlabel('lengthOfKernel')\n",
    "plt.ylabel('widthOfKernel')\n",
    "\n",
    "plt.show()"
   ]
  },
  {
   "cell_type": "markdown",
   "metadata": {},
   "source": [
    "here we see that the types are mixed up a bit on basis of the kernal"
   ]
  },
  {
   "cell_type": "markdown",
   "metadata": {},
   "source": [
    "Now checking if there are any missing data\n"
   ]
  },
  {
   "cell_type": "code",
   "execution_count": 11,
   "metadata": {},
   "outputs": [
    {
     "name": "stdout",
     "output_type": "stream",
     "text": [
      "<class 'pandas.core.frame.DataFrame'>\n",
      "RangeIndex: 210 entries, 0 to 209\n",
      "Data columns (total 7 columns):\n",
      " #   Column                Non-Null Count  Dtype  \n",
      "---  ------                --------------  -----  \n",
      " 0   ID                    210 non-null    int64  \n",
      " 1   area                  210 non-null    float64\n",
      " 2   perimeter             210 non-null    float64\n",
      " 3   lengthOfKernel        210 non-null    float64\n",
      " 4   widthOfKernel         210 non-null    float64\n",
      " 5   lengthOfKernelGroove  210 non-null    float64\n",
      " 6   seedType              210 non-null    object \n",
      "dtypes: float64(5), int64(1), object(1)\n",
      "memory usage: 11.6+ KB\n"
     ]
    }
   ],
   "source": [
    "df.info()"
   ]
  },
  {
   "cell_type": "markdown",
   "metadata": {},
   "source": [
    "here we see that there are no missing data values and erroneous data"
   ]
  },
  {
   "cell_type": "markdown",
   "metadata": {},
   "source": [
    "Now we have reached the stage where we create the model."
   ]
  },
  {
   "cell_type": "code",
   "execution_count": 12,
   "metadata": {},
   "outputs": [
    {
     "name": "stdout",
     "output_type": "stream",
     "text": [
      "Common_wheat    70\n",
      "Khorasan        70\n",
      "Emmer           70\n",
      "Name: seedType, dtype: int64\n",
      "2    70\n",
      "1    70\n",
      "0    70\n",
      "Name: seedType, dtype: int64\n",
      "0      0\n",
      "1      0\n",
      "2      0\n",
      "3      0\n",
      "4      0\n",
      "      ..\n",
      "205    2\n",
      "206    2\n",
      "207    2\n",
      "208    2\n",
      "209    2\n",
      "Name: seedType, Length: 210, dtype: int64\n"
     ]
    }
   ],
   "source": [
    "print(df['seedType'].value_counts())\n",
    "label_encode = {\"seedType\": {\"Common_wheat\":0, \"Khorasan\":1, \"Emmer\":2}}\n",
    "df.replace(label_encode,inplace=True)\n",
    "print(df['seedType'].value_counts())\n",
    "y_values = df['seedType']\n",
    "print(y_values)\n"
   ]
  },
  {
   "cell_type": "code",
   "execution_count": 13,
   "metadata": {},
   "outputs": [
    {
     "name": "stdout",
     "output_type": "stream",
     "text": [
      "[[1. 0. 0.]\n",
      " [1. 0. 0.]\n",
      " [1. 0. 0.]\n",
      " [1. 0. 0.]\n",
      " [1. 0. 0.]\n",
      " [1. 0. 0.]\n",
      " [1. 0. 0.]\n",
      " [1. 0. 0.]\n",
      " [1. 0. 0.]\n",
      " [1. 0. 0.]\n",
      " [1. 0. 0.]\n",
      " [1. 0. 0.]\n",
      " [1. 0. 0.]\n",
      " [1. 0. 0.]\n",
      " [1. 0. 0.]\n",
      " [1. 0. 0.]\n",
      " [1. 0. 0.]\n",
      " [1. 0. 0.]\n",
      " [1. 0. 0.]\n",
      " [1. 0. 0.]\n",
      " [1. 0. 0.]\n",
      " [1. 0. 0.]\n",
      " [1. 0. 0.]\n",
      " [1. 0. 0.]\n",
      " [1. 0. 0.]\n",
      " [1. 0. 0.]\n",
      " [1. 0. 0.]\n",
      " [1. 0. 0.]\n",
      " [1. 0. 0.]\n",
      " [1. 0. 0.]\n",
      " [1. 0. 0.]\n",
      " [1. 0. 0.]\n",
      " [1. 0. 0.]\n",
      " [1. 0. 0.]\n",
      " [1. 0. 0.]\n",
      " [1. 0. 0.]\n",
      " [1. 0. 0.]\n",
      " [1. 0. 0.]\n",
      " [1. 0. 0.]\n",
      " [1. 0. 0.]\n",
      " [1. 0. 0.]\n",
      " [1. 0. 0.]\n",
      " [1. 0. 0.]\n",
      " [1. 0. 0.]\n",
      " [1. 0. 0.]\n",
      " [1. 0. 0.]\n",
      " [1. 0. 0.]\n",
      " [1. 0. 0.]\n",
      " [1. 0. 0.]\n",
      " [1. 0. 0.]\n",
      " [1. 0. 0.]\n",
      " [1. 0. 0.]\n",
      " [1. 0. 0.]\n",
      " [1. 0. 0.]\n",
      " [1. 0. 0.]\n",
      " [1. 0. 0.]\n",
      " [1. 0. 0.]\n",
      " [1. 0. 0.]\n",
      " [1. 0. 0.]\n",
      " [1. 0. 0.]\n",
      " [1. 0. 0.]\n",
      " [1. 0. 0.]\n",
      " [1. 0. 0.]\n",
      " [1. 0. 0.]\n",
      " [1. 0. 0.]\n",
      " [1. 0. 0.]\n",
      " [1. 0. 0.]\n",
      " [1. 0. 0.]\n",
      " [1. 0. 0.]\n",
      " [1. 0. 0.]\n",
      " [0. 1. 0.]\n",
      " [0. 1. 0.]\n",
      " [0. 1. 0.]\n",
      " [0. 1. 0.]\n",
      " [0. 1. 0.]\n",
      " [0. 1. 0.]\n",
      " [0. 1. 0.]\n",
      " [0. 1. 0.]\n",
      " [0. 1. 0.]\n",
      " [0. 1. 0.]\n",
      " [0. 1. 0.]\n",
      " [0. 1. 0.]\n",
      " [0. 1. 0.]\n",
      " [0. 1. 0.]\n",
      " [0. 1. 0.]\n",
      " [0. 1. 0.]\n",
      " [0. 1. 0.]\n",
      " [0. 1. 0.]\n",
      " [0. 1. 0.]\n",
      " [0. 1. 0.]\n",
      " [0. 1. 0.]\n",
      " [0. 1. 0.]\n",
      " [0. 1. 0.]\n",
      " [0. 1. 0.]\n",
      " [0. 1. 0.]\n",
      " [0. 1. 0.]\n",
      " [0. 1. 0.]\n",
      " [0. 1. 0.]\n",
      " [0. 1. 0.]\n",
      " [0. 1. 0.]\n",
      " [0. 1. 0.]\n",
      " [0. 1. 0.]\n",
      " [0. 1. 0.]\n",
      " [0. 1. 0.]\n",
      " [0. 1. 0.]\n",
      " [0. 1. 0.]\n",
      " [0. 1. 0.]\n",
      " [0. 1. 0.]\n",
      " [0. 1. 0.]\n",
      " [0. 1. 0.]\n",
      " [0. 1. 0.]\n",
      " [0. 1. 0.]\n",
      " [0. 1. 0.]\n",
      " [0. 1. 0.]\n",
      " [0. 1. 0.]\n",
      " [0. 1. 0.]\n",
      " [0. 1. 0.]\n",
      " [0. 1. 0.]\n",
      " [0. 1. 0.]\n",
      " [0. 1. 0.]\n",
      " [0. 1. 0.]\n",
      " [0. 1. 0.]\n",
      " [0. 1. 0.]\n",
      " [0. 1. 0.]\n",
      " [0. 1. 0.]\n",
      " [0. 1. 0.]\n",
      " [0. 1. 0.]\n",
      " [0. 1. 0.]\n",
      " [0. 1. 0.]\n",
      " [0. 1. 0.]\n",
      " [0. 1. 0.]\n",
      " [0. 1. 0.]\n",
      " [0. 1. 0.]\n",
      " [0. 1. 0.]\n",
      " [0. 1. 0.]\n",
      " [0. 1. 0.]\n",
      " [0. 1. 0.]\n",
      " [0. 1. 0.]\n",
      " [0. 1. 0.]\n",
      " [0. 1. 0.]\n",
      " [0. 0. 1.]\n",
      " [0. 0. 1.]\n",
      " [0. 0. 1.]\n",
      " [0. 0. 1.]\n",
      " [0. 0. 1.]\n",
      " [0. 0. 1.]\n",
      " [0. 0. 1.]\n",
      " [0. 0. 1.]\n",
      " [0. 0. 1.]\n",
      " [0. 0. 1.]\n",
      " [0. 0. 1.]\n",
      " [0. 0. 1.]\n",
      " [0. 0. 1.]\n",
      " [0. 0. 1.]\n",
      " [0. 0. 1.]\n",
      " [0. 0. 1.]\n",
      " [0. 0. 1.]\n",
      " [0. 0. 1.]\n",
      " [0. 0. 1.]\n",
      " [0. 0. 1.]\n",
      " [0. 0. 1.]\n",
      " [0. 0. 1.]\n",
      " [0. 0. 1.]\n",
      " [0. 0. 1.]\n",
      " [0. 0. 1.]\n",
      " [0. 0. 1.]\n",
      " [0. 0. 1.]\n",
      " [0. 0. 1.]\n",
      " [0. 0. 1.]\n",
      " [0. 0. 1.]\n",
      " [0. 0. 1.]\n",
      " [0. 0. 1.]\n",
      " [0. 0. 1.]\n",
      " [0. 0. 1.]\n",
      " [0. 0. 1.]\n",
      " [0. 0. 1.]\n",
      " [0. 0. 1.]\n",
      " [0. 0. 1.]\n",
      " [0. 0. 1.]\n",
      " [0. 0. 1.]\n",
      " [0. 0. 1.]\n",
      " [0. 0. 1.]\n",
      " [0. 0. 1.]\n",
      " [0. 0. 1.]\n",
      " [0. 0. 1.]\n",
      " [0. 0. 1.]\n",
      " [0. 0. 1.]\n",
      " [0. 0. 1.]\n",
      " [0. 0. 1.]\n",
      " [0. 0. 1.]\n",
      " [0. 0. 1.]\n",
      " [0. 0. 1.]\n",
      " [0. 0. 1.]\n",
      " [0. 0. 1.]\n",
      " [0. 0. 1.]\n",
      " [0. 0. 1.]\n",
      " [0. 0. 1.]\n",
      " [0. 0. 1.]\n",
      " [0. 0. 1.]\n",
      " [0. 0. 1.]\n",
      " [0. 0. 1.]\n",
      " [0. 0. 1.]\n",
      " [0. 0. 1.]\n",
      " [0. 0. 1.]\n",
      " [0. 0. 1.]\n",
      " [0. 0. 1.]\n",
      " [0. 0. 1.]\n",
      " [0. 0. 1.]\n",
      " [0. 0. 1.]\n",
      " [0. 0. 1.]]\n",
      "          0         1         2         3         4\n",
      "0  0.142098  0.215462  0.304218  0.141702 -0.383577\n",
      "1  0.011188  0.008224 -0.168625  0.197432 -0.922013\n",
      "2 -0.192067 -0.360201 -0.763637  0.208048 -1.189192\n",
      "3 -0.347091 -0.475333 -0.688978  0.319508 -1.229983\n",
      "4  0.445257  0.330595  0.066666  0.805159 -0.475356\n",
      "                  0             1             2             3             4\n",
      "count  2.100000e+02  2.100000e+02  2.100000e+02  2.100000e+02  2.100000e+02\n",
      "mean  -5.392512e-17  9.146123e-17 -2.214631e-15 -3.172066e-16 -9.992007e-17\n",
      "std    1.002389e+00  1.002389e+00  1.002389e+00  1.002389e+00  1.002389e+00\n",
      "min   -1.466714e+00 -1.649686e+00 -1.650501e+00 -1.668209e+00 -1.813288e+00\n",
      "25%   -8.879552e-01 -8.514330e-01 -8.286816e-01 -8.349072e-01 -7.404953e-01\n",
      "50%   -1.696741e-01 -1.836639e-01 -2.376280e-01 -5.733534e-02 -3.774588e-01\n",
      "75%    8.465989e-01  8.870693e-01  7.945947e-01  8.044956e-01  9.563941e-01\n",
      "max    2.181534e+00  2.065260e+00  2.367533e+00  2.055112e+00  2.328998e+00\n"
     ]
    }
   ],
   "source": [
    "#The standardscaler will transform your data such that its distribution will have a mean value 0 and standard deviation of 1\n",
    "x_values =df[['area','perimeter','lengthOfKernel','widthOfKernel','lengthOfKernelGroove']]\n",
    "standardise = StandardScaler()\n",
    "x_values = standardise.fit_transform(x_values)\n",
    "x_values_df = pd.DataFrame(x_values)\n",
    "y_values = df['seedType']\n",
    "y_values = to_categorical(y_values)\n",
    "print(y_values)\n",
    "print(x_values_df.head())\n",
    "print(x_values_df.describe())\n"
   ]
  },
  {
   "cell_type": "markdown",
   "metadata": {},
   "source": [
    "Here we see that mean is tending to 0 and standard deviation is tending to 1"
   ]
  },
  {
   "cell_type": "markdown",
   "metadata": {},
   "source": [
    "Now we make the artificial neural network"
   ]
  },
  {
   "cell_type": "markdown",
   "metadata": {},
   "source": [
    "# Modeling"
   ]
  },
  {
   "cell_type": "code",
   "execution_count": 14,
   "metadata": {},
   "outputs": [
    {
     "name": "stdout",
     "output_type": "stream",
     "text": [
      "Model: \"sequential\"\n",
      "_________________________________________________________________\n",
      "Layer (type)                 Output Shape              Param #   \n",
      "=================================================================\n",
      "dense (Dense)                (None, 6)                 36        \n",
      "_________________________________________________________________\n",
      "dense_1 (Dense)              (None, 6)                 42        \n",
      "_________________________________________________________________\n",
      "dense_2 (Dense)              (None, 3)                 21        \n",
      "=================================================================\n",
      "Total params: 99\n",
      "Trainable params: 99\n",
      "Non-trainable params: 0\n",
      "_________________________________________________________________\n"
     ]
    }
   ],
   "source": [
    "model = Sequential()\n",
    "model.add(Dense(6,input_dim=5,activation='relu'))\n",
    "model.add(Dense(6,activation='relu'))\n",
    "model.add(Dense(3,activation='softmax')) \n",
    "model.compile(optimizer='adam',loss='categorical_crossentropy',metrics=['accuracy'])\n",
    "model.summary()"
   ]
  },
  {
   "cell_type": "code",
   "execution_count": 15,
   "metadata": {},
   "outputs": [
    {
     "name": "stdout",
     "output_type": "stream",
     "text": [
      "Epoch 1/70\n",
      "7/7 [==============================] - 1s 1ms/step - loss: 1.2284 - accuracy: 0.3096\n",
      "Epoch 2/70\n",
      "7/7 [==============================] - 0s 1ms/step - loss: 1.1736 - accuracy: 0.3017\n",
      "Epoch 3/70\n",
      "7/7 [==============================] - 0s 1ms/step - loss: 1.1506 - accuracy: 0.3158\n",
      "Epoch 4/70\n",
      "7/7 [==============================] - 0s 1ms/step - loss: 1.1604 - accuracy: 0.2822\n",
      "Epoch 5/70\n",
      "7/7 [==============================] - 0s 2ms/step - loss: 1.1025 - accuracy: 0.3023\n",
      "Epoch 6/70\n",
      "7/7 [==============================] - 0s 2ms/step - loss: 1.0955 - accuracy: 0.2970\n",
      "Epoch 7/70\n",
      "7/7 [==============================] - 0s 2ms/step - loss: 1.0814 - accuracy: 0.3003\n",
      "Epoch 8/70\n",
      "7/7 [==============================] - 0s 2ms/step - loss: 1.0826 - accuracy: 0.2844\n",
      "Epoch 9/70\n",
      "7/7 [==============================] - 0s 2ms/step - loss: 1.0617 - accuracy: 0.3006\n",
      "Epoch 10/70\n",
      "7/7 [==============================] - 0s 2ms/step - loss: 1.0534 - accuracy: 0.3384\n",
      "Epoch 11/70\n",
      "7/7 [==============================] - 0s 2ms/step - loss: 1.0548 - accuracy: 0.2686\n",
      "Epoch 12/70\n",
      "7/7 [==============================] - 0s 2ms/step - loss: 1.0477 - accuracy: 0.2966\n",
      "Epoch 13/70\n",
      "7/7 [==============================] - 0s 2ms/step - loss: 1.0272 - accuracy: 0.3386\n",
      "Epoch 14/70\n",
      "7/7 [==============================] - 0s 2ms/step - loss: 1.0142 - accuracy: 0.3428\n",
      "Epoch 15/70\n",
      "7/7 [==============================] - 0s 1ms/step - loss: 1.0191 - accuracy: 0.3654\n",
      "Epoch 16/70\n",
      "7/7 [==============================] - 0s 1ms/step - loss: 1.0078 - accuracy: 0.3918\n",
      "Epoch 17/70\n",
      "7/7 [==============================] - 0s 1ms/step - loss: 1.0011 - accuracy: 0.3780\n",
      "Epoch 18/70\n",
      "7/7 [==============================] - 0s 2ms/step - loss: 0.9814 - accuracy: 0.4489\n",
      "Epoch 19/70\n",
      "7/7 [==============================] - 0s 2ms/step - loss: 0.9737 - accuracy: 0.4767\n",
      "Epoch 20/70\n",
      "7/7 [==============================] - 0s 2ms/step - loss: 0.9996 - accuracy: 0.4548\n",
      "Epoch 21/70\n",
      "7/7 [==============================] - 0s 2ms/step - loss: 0.9668 - accuracy: 0.4604\n",
      "Epoch 22/70\n",
      "7/7 [==============================] - 0s 2ms/step - loss: 0.9791 - accuracy: 0.4777\n",
      "Epoch 23/70\n",
      "7/7 [==============================] - 0s 2ms/step - loss: 0.9700 - accuracy: 0.4956\n",
      "Epoch 24/70\n",
      "7/7 [==============================] - 0s 1ms/step - loss: 0.9389 - accuracy: 0.5382\n",
      "Epoch 25/70\n",
      "7/7 [==============================] - 0s 2ms/step - loss: 0.9408 - accuracy: 0.5388\n",
      "Epoch 26/70\n",
      "7/7 [==============================] - 0s 2ms/step - loss: 0.9286 - accuracy: 0.5180\n",
      "Epoch 27/70\n",
      "7/7 [==============================] - 0s 2ms/step - loss: 0.9274 - accuracy: 0.5349\n",
      "Epoch 28/70\n",
      "7/7 [==============================] - 0s 2ms/step - loss: 0.9254 - accuracy: 0.5353\n",
      "Epoch 29/70\n",
      "7/7 [==============================] - 0s 2ms/step - loss: 0.9155 - accuracy: 0.5638\n",
      "Epoch 30/70\n",
      "7/7 [==============================] - 0s 2ms/step - loss: 0.9103 - accuracy: 0.6105\n",
      "Epoch 31/70\n",
      "7/7 [==============================] - 0s 2ms/step - loss: 0.9114 - accuracy: 0.6001\n",
      "Epoch 32/70\n",
      "7/7 [==============================] - 0s 2ms/step - loss: 0.8905 - accuracy: 0.6105\n",
      "Epoch 33/70\n",
      "7/7 [==============================] - 0s 2ms/step - loss: 0.8790 - accuracy: 0.6691\n",
      "Epoch 34/70\n",
      "7/7 [==============================] - 0s 2ms/step - loss: 0.8805 - accuracy: 0.7241\n",
      "Epoch 35/70\n",
      "7/7 [==============================] - 0s 2ms/step - loss: 0.8769 - accuracy: 0.7385\n",
      "Epoch 36/70\n",
      "7/7 [==============================] - 0s 2ms/step - loss: 0.8523 - accuracy: 0.7730\n",
      "Epoch 37/70\n",
      "7/7 [==============================] - 0s 2ms/step - loss: 0.8499 - accuracy: 0.7679\n",
      "Epoch 38/70\n",
      "7/7 [==============================] - 0s 1ms/step - loss: 0.8426 - accuracy: 0.7826\n",
      "Epoch 39/70\n",
      "7/7 [==============================] - 0s 2ms/step - loss: 0.8148 - accuracy: 0.8354\n",
      "Epoch 40/70\n",
      "7/7 [==============================] - 0s 1ms/step - loss: 0.8259 - accuracy: 0.7724\n",
      "Epoch 41/70\n",
      "7/7 [==============================] - 0s 1ms/step - loss: 0.8015 - accuracy: 0.8061\n",
      "Epoch 42/70\n",
      "7/7 [==============================] - 0s 1ms/step - loss: 0.8115 - accuracy: 0.8073\n",
      "Epoch 43/70\n",
      "7/7 [==============================] - 0s 1ms/step - loss: 0.8111 - accuracy: 0.8181\n",
      "Epoch 44/70\n",
      "7/7 [==============================] - 0s 1ms/step - loss: 0.7719 - accuracy: 0.8338\n",
      "Epoch 45/70\n",
      "7/7 [==============================] - 0s 1ms/step - loss: 0.7898 - accuracy: 0.7940\n",
      "Epoch 46/70\n",
      "7/7 [==============================] - 0s 2ms/step - loss: 0.7614 - accuracy: 0.8056\n",
      "Epoch 47/70\n",
      "7/7 [==============================] - 0s 1ms/step - loss: 0.7501 - accuracy: 0.8209\n",
      "Epoch 48/70\n",
      "7/7 [==============================] - 0s 2ms/step - loss: 0.7725 - accuracy: 0.8143\n",
      "Epoch 49/70\n",
      "7/7 [==============================] - 0s 1ms/step - loss: 0.7303 - accuracy: 0.8322\n",
      "Epoch 50/70\n",
      "7/7 [==============================] - 0s 2ms/step - loss: 0.7395 - accuracy: 0.8232\n",
      "Epoch 51/70\n",
      "7/7 [==============================] - 0s 1ms/step - loss: 0.7098 - accuracy: 0.8367\n",
      "Epoch 52/70\n",
      "7/7 [==============================] - 0s 2ms/step - loss: 0.7056 - accuracy: 0.8456\n",
      "Epoch 53/70\n",
      "7/7 [==============================] - 0s 2ms/step - loss: 0.6956 - accuracy: 0.8459\n",
      "Epoch 54/70\n",
      "7/7 [==============================] - 0s 2ms/step - loss: 0.6708 - accuracy: 0.8665\n",
      "Epoch 55/70\n",
      "7/7 [==============================] - 0s 1ms/step - loss: 0.6860 - accuracy: 0.8318\n",
      "Epoch 56/70\n",
      "7/7 [==============================] - 0s 2ms/step - loss: 0.6638 - accuracy: 0.8664\n",
      "Epoch 57/70\n",
      "7/7 [==============================] - 0s 2ms/step - loss: 0.6548 - accuracy: 0.8537\n",
      "Epoch 58/70\n",
      "7/7 [==============================] - 0s 2ms/step - loss: 0.6307 - accuracy: 0.8884\n",
      "Epoch 59/70\n",
      "7/7 [==============================] - 0s 1ms/step - loss: 0.6618 - accuracy: 0.8393\n",
      "Epoch 60/70\n",
      "7/7 [==============================] - 0s 1ms/step - loss: 0.6490 - accuracy: 0.8781\n",
      "Epoch 61/70\n",
      "7/7 [==============================] - 0s 1ms/step - loss: 0.6161 - accuracy: 0.8811\n",
      "Epoch 62/70\n",
      "7/7 [==============================] - 0s 1ms/step - loss: 0.6170 - accuracy: 0.8791\n",
      "Epoch 63/70\n",
      "7/7 [==============================] - 0s 1ms/step - loss: 0.5878 - accuracy: 0.8891\n",
      "Epoch 64/70\n",
      "7/7 [==============================] - 0s 1ms/step - loss: 0.6178 - accuracy: 0.8790\n",
      "Epoch 65/70\n",
      "7/7 [==============================] - 0s 1ms/step - loss: 0.5860 - accuracy: 0.8984\n",
      "Epoch 66/70\n",
      "7/7 [==============================] - 0s 1ms/step - loss: 0.5668 - accuracy: 0.9094\n",
      "Epoch 67/70\n",
      "7/7 [==============================] - 0s 1ms/step - loss: 0.5852 - accuracy: 0.8829\n",
      "Epoch 68/70\n",
      "7/7 [==============================] - 0s 1ms/step - loss: 0.5525 - accuracy: 0.8792\n",
      "Epoch 69/70\n",
      "7/7 [==============================] - 0s 1ms/step - loss: 0.5546 - accuracy: 0.8807\n",
      "Epoch 70/70\n",
      "7/7 [==============================] - 0s 1ms/step - loss: 0.5368 - accuracy: 0.9034\n"
     ]
    },
    {
     "data": {
      "text/plain": [
       "<tensorflow.python.keras.callbacks.History at 0x26dfc0011c0>"
      ]
     },
     "execution_count": 15,
     "metadata": {},
     "output_type": "execute_result"
    }
   ],
   "source": [
    "#Now we check the model accucracy by putting different values of\n",
    "model.fit(x_values,y_values,epochs=70,shuffle=True)"
   ]
  },
  {
   "cell_type": "markdown",
   "metadata": {},
   "source": [
    "Now we create a test dataset and train dataset"
   ]
  },
  {
   "cell_type": "code",
   "execution_count": 16,
   "metadata": {},
   "outputs": [
    {
     "name": "stdout",
     "output_type": "stream",
     "text": [
      "Number of rows in x_train: 168\n",
      "Number of rows in x_test: 42\n",
      "Number of rows in y_train: 168\n",
      "Number of rows in y_test: 42\n"
     ]
    }
   ],
   "source": [
    "x_train, x_test, y_train, y_test = train_test_split(x_values,y_values,test_size=0.20,random_state=40)\n",
    "print(\"Number of rows in x_train:\", x_train.shape[0])\n",
    "print(\"Number of rows in x_test:\", x_test.shape[0])\n",
    "print(\"Number of rows in y_train:\", y_train.shape[0])\n",
    "print(\"Number of rows in y_test:\", y_test.shape[0])\n",
    "standardise = StandardScaler()\n",
    "x_train = standardise.fit_transform(x_train)\n",
    "x_test = standardise.transform(x_test)\n"
   ]
  },
  {
   "cell_type": "code",
   "execution_count": 17,
   "metadata": {},
   "outputs": [
    {
     "name": "stdout",
     "output_type": "stream",
     "text": [
      "Model: \"sequential_1\"\n",
      "_________________________________________________________________\n",
      "Layer (type)                 Output Shape              Param #   \n",
      "=================================================================\n",
      "dense_3 (Dense)              (None, 6)                 36        \n",
      "_________________________________________________________________\n",
      "dense_4 (Dense)              (None, 6)                 42        \n",
      "_________________________________________________________________\n",
      "dense_5 (Dense)              (None, 6)                 42        \n",
      "_________________________________________________________________\n",
      "dense_6 (Dense)              (None, 3)                 21        \n",
      "=================================================================\n",
      "Total params: 141\n",
      "Trainable params: 141\n",
      "Non-trainable params: 0\n",
      "_________________________________________________________________\n"
     ]
    }
   ],
   "source": [
    "model_val = Sequential()\n",
    "model_val.add(Dense(6,input_dim=5,activation='relu')) \n",
    "model_val.add(Dense(6,activation='relu'))\n",
    "model_val.add(Dense(6,activation='relu'))\n",
    "model_val.add(Dense(3,activation='softmax'))\n",
    "model_val.compile(optimizer='adam',loss='categorical_crossentropy',metrics=['accuracy'])\n",
    "model_val.summary()"
   ]
  },
  {
   "cell_type": "markdown",
   "metadata": {},
   "source": [
    "# Evaluation"
   ]
  },
  {
   "cell_type": "code",
   "execution_count": 18,
   "metadata": {},
   "outputs": [
    {
     "name": "stdout",
     "output_type": "stream",
     "text": [
      "Epoch 1/60\n",
      "6/6 [==============================] - 2s 299ms/step - loss: 1.0625 - accuracy: 0.4519 - val_loss: 1.0657 - val_accuracy: 0.3810\n",
      "Epoch 2/60\n",
      "6/6 [==============================] - 0s 12ms/step - loss: 1.0364 - accuracy: 0.5167 - val_loss: 1.0496 - val_accuracy: 0.4048\n",
      "Epoch 3/60\n",
      "6/6 [==============================] - 0s 12ms/step - loss: 1.0280 - accuracy: 0.4651 - val_loss: 1.0333 - val_accuracy: 0.4048\n",
      "Epoch 4/60\n",
      "6/6 [==============================] - 0s 12ms/step - loss: 1.0029 - accuracy: 0.5111 - val_loss: 1.0173 - val_accuracy: 0.4286\n",
      "Epoch 5/60\n",
      "6/6 [==============================] - 0s 12ms/step - loss: 0.9833 - accuracy: 0.5288 - val_loss: 1.0011 - val_accuracy: 0.4286\n",
      "Epoch 6/60\n",
      "6/6 [==============================] - 0s 13ms/step - loss: 0.9763 - accuracy: 0.5397 - val_loss: 0.9846 - val_accuracy: 0.4286\n",
      "Epoch 7/60\n",
      "6/6 [==============================] - 0s 12ms/step - loss: 0.9649 - accuracy: 0.5357 - val_loss: 0.9670 - val_accuracy: 0.4762\n",
      "Epoch 8/60\n",
      "6/6 [==============================] - 0s 13ms/step - loss: 0.9259 - accuracy: 0.5857 - val_loss: 0.9483 - val_accuracy: 0.6190\n",
      "Epoch 9/60\n",
      "6/6 [==============================] - 0s 12ms/step - loss: 0.9070 - accuracy: 0.5990 - val_loss: 0.9287 - val_accuracy: 0.6190\n",
      "Epoch 10/60\n",
      "6/6 [==============================] - 0s 13ms/step - loss: 0.9118 - accuracy: 0.5606 - val_loss: 0.9090 - val_accuracy: 0.6905\n",
      "Epoch 11/60\n",
      "6/6 [==============================] - 0s 12ms/step - loss: 0.9053 - accuracy: 0.5752 - val_loss: 0.8885 - val_accuracy: 0.5476\n",
      "Epoch 12/60\n",
      "6/6 [==============================] - 0s 13ms/step - loss: 0.8655 - accuracy: 0.5594 - val_loss: 0.8670 - val_accuracy: 0.6667\n",
      "Epoch 13/60\n",
      "6/6 [==============================] - 0s 12ms/step - loss: 0.8348 - accuracy: 0.6470 - val_loss: 0.8450 - val_accuracy: 0.7381\n",
      "Epoch 14/60\n",
      "6/6 [==============================] - 0s 12ms/step - loss: 0.8117 - accuracy: 0.6554 - val_loss: 0.8231 - val_accuracy: 0.7619\n",
      "Epoch 15/60\n",
      "6/6 [==============================] - 0s 12ms/step - loss: 0.8113 - accuracy: 0.6307 - val_loss: 0.8008 - val_accuracy: 0.7857\n",
      "Epoch 16/60\n",
      "6/6 [==============================] - 0s 12ms/step - loss: 0.7971 - accuracy: 0.7298 - val_loss: 0.7791 - val_accuracy: 0.8095\n",
      "Epoch 17/60\n",
      "6/6 [==============================] - 0s 14ms/step - loss: 0.7383 - accuracy: 0.7389 - val_loss: 0.7586 - val_accuracy: 0.8571\n",
      "Epoch 18/60\n",
      "6/6 [==============================] - 0s 13ms/step - loss: 0.7398 - accuracy: 0.7382 - val_loss: 0.7393 - val_accuracy: 0.8571\n",
      "Epoch 19/60\n",
      "6/6 [==============================] - 0s 12ms/step - loss: 0.7177 - accuracy: 0.7344 - val_loss: 0.7210 - val_accuracy: 0.8571\n",
      "Epoch 20/60\n",
      "6/6 [==============================] - 0s 12ms/step - loss: 0.6793 - accuracy: 0.7620 - val_loss: 0.7034 - val_accuracy: 0.9048\n",
      "Epoch 21/60\n",
      "6/6 [==============================] - 0s 12ms/step - loss: 0.6861 - accuracy: 0.7570 - val_loss: 0.6870 - val_accuracy: 0.9048\n",
      "Epoch 22/60\n",
      "6/6 [==============================] - 0s 12ms/step - loss: 0.6669 - accuracy: 0.7948 - val_loss: 0.6713 - val_accuracy: 0.8810\n",
      "Epoch 23/60\n",
      "6/6 [==============================] - 0s 12ms/step - loss: 0.6327 - accuracy: 0.8427 - val_loss: 0.6560 - val_accuracy: 0.8810\n",
      "Epoch 24/60\n",
      "6/6 [==============================] - 0s 12ms/step - loss: 0.6227 - accuracy: 0.7955 - val_loss: 0.6420 - val_accuracy: 0.8810\n",
      "Epoch 25/60\n",
      "6/6 [==============================] - 0s 12ms/step - loss: 0.6240 - accuracy: 0.7994 - val_loss: 0.6283 - val_accuracy: 0.7857\n",
      "Epoch 26/60\n",
      "6/6 [==============================] - 0s 13ms/step - loss: 0.6075 - accuracy: 0.7952 - val_loss: 0.6160 - val_accuracy: 0.7857\n",
      "Epoch 27/60\n",
      "6/6 [==============================] - 0s 14ms/step - loss: 0.5841 - accuracy: 0.8043 - val_loss: 0.6039 - val_accuracy: 0.7619\n",
      "Epoch 28/60\n",
      "6/6 [==============================] - 0s 11ms/step - loss: 0.5615 - accuracy: 0.8000 - val_loss: 0.5925 - val_accuracy: 0.7619\n",
      "Epoch 29/60\n",
      "6/6 [==============================] - 0s 16ms/step - loss: 0.5759 - accuracy: 0.8091 - val_loss: 0.5819 - val_accuracy: 0.7619\n",
      "Epoch 30/60\n",
      "6/6 [==============================] - 0s 12ms/step - loss: 0.5616 - accuracy: 0.7933 - val_loss: 0.5714 - val_accuracy: 0.7619\n",
      "Epoch 31/60\n",
      "6/6 [==============================] - 0s 12ms/step - loss: 0.5718 - accuracy: 0.7690 - val_loss: 0.5615 - val_accuracy: 0.7619\n",
      "Epoch 32/60\n",
      "6/6 [==============================] - 0s 13ms/step - loss: 0.5116 - accuracy: 0.8126 - val_loss: 0.5526 - val_accuracy: 0.7381\n",
      "Epoch 33/60\n",
      "6/6 [==============================] - 0s 13ms/step - loss: 0.5022 - accuracy: 0.8304 - val_loss: 0.5437 - val_accuracy: 0.7381\n",
      "Epoch 34/60\n",
      "6/6 [==============================] - 0s 12ms/step - loss: 0.5258 - accuracy: 0.7851 - val_loss: 0.5334 - val_accuracy: 0.7857\n",
      "Epoch 35/60\n",
      "6/6 [==============================] - 0s 13ms/step - loss: 0.5066 - accuracy: 0.7909 - val_loss: 0.5243 - val_accuracy: 0.7857\n",
      "Epoch 36/60\n",
      "6/6 [==============================] - 0s 13ms/step - loss: 0.4854 - accuracy: 0.8328 - val_loss: 0.5163 - val_accuracy: 0.7381\n",
      "Epoch 37/60\n",
      "6/6 [==============================] - 0s 12ms/step - loss: 0.4726 - accuracy: 0.8157 - val_loss: 0.5064 - val_accuracy: 0.7857\n",
      "Epoch 38/60\n",
      "6/6 [==============================] - 0s 11ms/step - loss: 0.4636 - accuracy: 0.8350 - val_loss: 0.4977 - val_accuracy: 0.8095\n",
      "Epoch 39/60\n",
      "6/6 [==============================] - 0s 12ms/step - loss: 0.4627 - accuracy: 0.8318 - val_loss: 0.4889 - val_accuracy: 0.8095\n",
      "Epoch 40/60\n",
      "6/6 [==============================] - 0s 12ms/step - loss: 0.4425 - accuracy: 0.8546 - val_loss: 0.4807 - val_accuracy: 0.8333\n",
      "Epoch 41/60\n",
      "6/6 [==============================] - 0s 13ms/step - loss: 0.4458 - accuracy: 0.8607 - val_loss: 0.4699 - val_accuracy: 0.8333\n",
      "Epoch 42/60\n",
      "6/6 [==============================] - 0s 12ms/step - loss: 0.4479 - accuracy: 0.8533 - val_loss: 0.4579 - val_accuracy: 0.8810\n",
      "Epoch 43/60\n",
      "6/6 [==============================] - 0s 12ms/step - loss: 0.4053 - accuracy: 0.9062 - val_loss: 0.4471 - val_accuracy: 0.8810\n",
      "Epoch 44/60\n",
      "6/6 [==============================] - 0s 12ms/step - loss: 0.4139 - accuracy: 0.8927 - val_loss: 0.4357 - val_accuracy: 0.8810\n",
      "Epoch 45/60\n",
      "6/6 [==============================] - 0s 13ms/step - loss: 0.4304 - accuracy: 0.8670 - val_loss: 0.4239 - val_accuracy: 0.8810\n",
      "Epoch 46/60\n",
      "6/6 [==============================] - 0s 13ms/step - loss: 0.3858 - accuracy: 0.8709 - val_loss: 0.4127 - val_accuracy: 0.8810\n",
      "Epoch 47/60\n",
      "6/6 [==============================] - 0s 17ms/step - loss: 0.3811 - accuracy: 0.8891 - val_loss: 0.4040 - val_accuracy: 0.8810\n",
      "Epoch 48/60\n",
      "6/6 [==============================] - 0s 13ms/step - loss: 0.3591 - accuracy: 0.8943 - val_loss: 0.3934 - val_accuracy: 0.9048\n",
      "Epoch 49/60\n",
      "6/6 [==============================] - 0s 13ms/step - loss: 0.3192 - accuracy: 0.9103 - val_loss: 0.3863 - val_accuracy: 0.9048\n",
      "Epoch 50/60\n",
      "6/6 [==============================] - 0s 13ms/step - loss: 0.3942 - accuracy: 0.8593 - val_loss: 0.3755 - val_accuracy: 0.9048\n",
      "Epoch 51/60\n",
      "6/6 [==============================] - 0s 12ms/step - loss: 0.3891 - accuracy: 0.8835 - val_loss: 0.3684 - val_accuracy: 0.9048\n",
      "Epoch 52/60\n",
      "6/6 [==============================] - 0s 13ms/step - loss: 0.3398 - accuracy: 0.9027 - val_loss: 0.3615 - val_accuracy: 0.9048\n",
      "Epoch 53/60\n",
      "6/6 [==============================] - 0s 13ms/step - loss: 0.3028 - accuracy: 0.9232 - val_loss: 0.3557 - val_accuracy: 0.9048\n",
      "Epoch 54/60\n",
      "6/6 [==============================] - 0s 12ms/step - loss: 0.3448 - accuracy: 0.8820 - val_loss: 0.3482 - val_accuracy: 0.9048\n",
      "Epoch 55/60\n",
      "6/6 [==============================] - 0s 12ms/step - loss: 0.3259 - accuracy: 0.9045 - val_loss: 0.3401 - val_accuracy: 0.9048\n",
      "Epoch 56/60\n",
      "6/6 [==============================] - 0s 12ms/step - loss: 0.3435 - accuracy: 0.8727 - val_loss: 0.3341 - val_accuracy: 0.9048\n",
      "Epoch 57/60\n",
      "6/6 [==============================] - 0s 12ms/step - loss: 0.2854 - accuracy: 0.9263 - val_loss: 0.3307 - val_accuracy: 0.9048\n",
      "Epoch 58/60\n",
      "6/6 [==============================] - 0s 11ms/step - loss: 0.2849 - accuracy: 0.9307 - val_loss: 0.3241 - val_accuracy: 0.9048\n",
      "Epoch 59/60\n"
     ]
    },
    {
     "name": "stdout",
     "output_type": "stream",
     "text": [
      "6/6 [==============================] - 0s 13ms/step - loss: 0.2792 - accuracy: 0.9188 - val_loss: 0.3190 - val_accuracy: 0.9048\n",
      "Epoch 60/60\n",
      "6/6 [==============================] - 0s 18ms/step - loss: 0.2933 - accuracy: 0.9012 - val_loss: 0.3128 - val_accuracy: 0.9286\n"
     ]
    },
    {
     "data": {
      "text/plain": [
       "<tensorflow.python.keras.callbacks.History at 0x26dfd19d4f0>"
      ]
     },
     "execution_count": 18,
     "metadata": {},
     "output_type": "execute_result"
    }
   ],
   "source": [
    "model_val.fit(x_train,y_train,epochs=60,shuffle=True,validation_data=(x_test,y_test))"
   ]
  },
  {
   "cell_type": "code",
   "execution_count": 19,
   "metadata": {},
   "outputs": [
    {
     "data": {
      "text/plain": [
       "array([[2.85707116e-01, 6.52399838e-01, 6.18930571e-02],\n",
       "       [1.55801237e-01, 2.63338513e-03, 8.41565311e-01],\n",
       "       [4.47421640e-01, 4.39192176e-01, 1.13386147e-01],\n",
       "       [1.90974310e-01, 4.08039801e-03, 8.04945290e-01],\n",
       "       [8.69641751e-02, 3.90934991e-04, 9.12644863e-01],\n",
       "       [3.33815485e-01, 2.59017106e-03, 6.63594306e-01],\n",
       "       [9.41110682e-03, 9.90422845e-01, 1.66131489e-04],\n",
       "       [8.81433427e-01, 1.15572261e-02, 1.07009396e-01],\n",
       "       [8.46382827e-02, 3.57494951e-04, 9.15004253e-01],\n",
       "       [1.35423662e-02, 9.86107111e-01, 3.50536080e-04],\n",
       "       [2.66254563e-02, 9.72462356e-01, 9.12239600e-04],\n",
       "       [1.07990623e-01, 8.05819698e-04, 8.91203582e-01],\n",
       "       [2.19387427e-01, 4.30036383e-03, 7.76312232e-01],\n",
       "       [1.30346984e-01, 1.52823760e-03, 8.68124783e-01],\n",
       "       [1.62670165e-01, 2.35678838e-03, 8.34972978e-01],\n",
       "       [2.75570061e-02, 9.71379042e-01, 1.06393360e-03],\n",
       "       [6.78292572e-01, 2.94196443e-03, 3.18765402e-01],\n",
       "       [3.72815430e-02, 9.60898578e-01, 1.81991654e-03],\n",
       "       [1.76694497e-01, 8.01859319e-01, 2.14462187e-02],\n",
       "       [7.95134246e-01, 8.42280628e-04, 2.04023480e-01],\n",
       "       [2.87282467e-01, 1.65114680e-03, 7.11066365e-01],\n",
       "       [8.08228403e-02, 3.07013222e-04, 9.18870151e-01],\n",
       "       [7.52286732e-01, 9.29859001e-03, 2.38414705e-01],\n",
       "       [6.66378260e-01, 2.21176329e-03, 3.31409991e-01],\n",
       "       [1.82127045e-03, 9.98167634e-01, 1.10915962e-05],\n",
       "       [3.13925324e-03, 9.96832430e-01, 2.83137251e-05],\n",
       "       [2.05416545e-01, 7.63100982e-01, 3.14824432e-02],\n",
       "       [9.11007226e-02, 4.56205453e-04, 9.08443093e-01],\n",
       "       [7.88469553e-01, 1.14171654e-02, 2.00113297e-01],\n",
       "       [1.43043354e-01, 2.08684849e-03, 8.54869783e-01],\n",
       "       [9.28458214e-01, 5.90162212e-03, 6.56401515e-02],\n",
       "       [1.05582485e-02, 9.89238977e-01, 2.02840849e-04],\n",
       "       [9.08869654e-02, 9.01987255e-01, 7.12568033e-03],\n",
       "       [1.11310862e-01, 8.87138071e-04, 8.87802064e-01],\n",
       "       [1.05339371e-01, 7.41148426e-04, 8.93919468e-01],\n",
       "       [7.00298101e-02, 1.91824205e-04, 9.29778337e-01],\n",
       "       [2.15356816e-02, 9.77748275e-01, 7.15960341e-04],\n",
       "       [8.28075528e-01, 9.86795314e-03, 1.62056476e-01],\n",
       "       [8.38125408e-01, 3.90205681e-02, 1.22854002e-01],\n",
       "       [1.14454530e-01, 9.80706885e-04, 8.84564757e-01],\n",
       "       [5.34189761e-01, 6.32189736e-02, 4.02591348e-01],\n",
       "       [8.21314096e-01, 3.98924798e-02, 1.38793439e-01]], dtype=float32)"
      ]
     },
     "execution_count": 19,
     "metadata": {},
     "output_type": "execute_result"
    }
   ],
   "source": [
    "test=x_test.copy()\n",
    "y_predict=model_val.predict(test)\n",
    "y_predict"
   ]
  },
  {
   "cell_type": "code",
   "execution_count": 20,
   "metadata": {},
   "outputs": [
    {
     "name": "stdout",
     "output_type": "stream",
     "text": [
      "[[11  1  1]\n",
      " [ 1 12  0]\n",
      " [ 0  0 16]]\n"
     ]
    }
   ],
   "source": [
    "print(confusion_matrix(y_test.argmax(axis=1), y_predict.argmax(axis=1))) "
   ]
  },
  {
   "cell_type": "code",
   "execution_count": 21,
   "metadata": {},
   "outputs": [],
   "source": [
    "y_predict=np.round(y_predict,decimals=0)"
   ]
  },
  {
   "cell_type": "code",
   "execution_count": 22,
   "metadata": {},
   "outputs": [
    {
     "data": {
      "text/plain": [
       "<AxesSubplot:xlabel='Predicted', ylabel='Actual'>"
      ]
     },
     "execution_count": 22,
     "metadata": {},
     "output_type": "execute_result"
    },
    {
     "data": {
      "image/png": "[encoded data removed]",
      "text/plain": [
       "<Figure size 432x288 with 2 Axes>"
      ]
     },
     "metadata": {
      "needs_background": "light"
     },
     "output_type": "display_data"
    }
   ],
   "source": [
    "df = pd.DataFrame()\n",
    "df['Actual'] =y_test.argmax(axis=1)\n",
    "df['Predicted'] = y_predict.argmax(axis=1)\n",
    "freq = pd.crosstab(df.Actual,df.Predicted)\n",
    "sns.heatmap(freq,annot=True,fmt=\"d\")"
   ]
  },
  {
   "cell_type": "markdown",
   "metadata": {},
   "source": [
    "# Deployment"
   ]
  },
  {
   "cell_type": "code",
   "execution_count": 23,
   "metadata": {},
   "outputs": [
    {
     "name": "stdout",
     "output_type": "stream",
     "text": [
      "Area   :15\n",
      "perimeter   :15\n",
      "lengthOfKernel   :5\n",
      "widthOfKernel   :5\n",
      "lengthOfKernelGroove   :3\n",
      "The type of wheat seed to be used is Common Wheat\n"
     ]
    }
   ],
   "source": [
    "test2=pd.DataFrame()\n",
    "test2['area']=[float(input(\"Area   :\"))]\n",
    "test2['perimeter']=[float(input(\"perimeter   :\"))]\n",
    "test2['lengthOfKernel']=[float(input(\"lengthOfKernel   :\"))]\n",
    "test2['widthOfKernel']=[float(input(\"widthOfKernel   :\"))]\n",
    "test2['lengthOfKernelGroove']=[float(input(\"lengthOfKernelGroove   :\"))]\n",
    "predict_seed=model.predict(test2)\n",
    "a=predict_seed.argmax(axis=1)\n",
    "if a==0:\n",
    "    print(\"The type of wheat seed to be used is Common Wheat\")\n",
    "elif a==1:\n",
    "    print(\"The type of wheat seed to be used is Khorasan\")\n",
    "elif a==2:\n",
    "    print(\"The type of wheat seed to be used is Emmer\")\n",
    "    "
   ]
  }
 ],
 "metadata": {
  "kernelspec": {
   "display_name": "Python 3",
   "language": "python",
   "name": "python3"
  },
  "language_info": {
   "codemirror_mode": {
    "name": "ipython",
    "version": 3
   },
   "file_extension": ".py",
   "mimetype": "text/x-python",
   "name": "python",
   "nbconvert_exporter": "python",
   "pygments_lexer": "ipython3",
   "version": "3.8.5"
  }
 },
 "nbformat": 4,
 "nbformat_minor": 4
}
